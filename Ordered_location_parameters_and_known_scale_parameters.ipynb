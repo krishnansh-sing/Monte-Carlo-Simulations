{
 "cells": [
  {
   "cell_type": "code",
   "execution_count": 1,
   "id": "2606b21d-5e64-4e0a-a3dd-735fcac02c2c",
   "metadata": {},
   "outputs": [],
   "source": [
    "import numpy as np\n",
    "import pandas as pd\n",
    "import matplotlib.pyplot as plt\n",
    "import seaborn as sns\n",
    "import random"
   ]
  },
  {
   "cell_type": "code",
   "execution_count": null,
   "id": "a6d76fe5-0b34-402a-82eb-277b140df49a",
   "metadata": {},
   "outputs": [],
   "source": [
    "l1 = [(0.5,0,3,3),(1,0,3,3),(1.5,0,3,3),(2,0,3,3),(2.5,0,3,3),\n",
    "      (0.5,0,6,6),(1,0,6,6),(1.5,0,6,6),(2,0,6,6),(2.5,0,6,6),\n",
    "      (0.5,0,9,9),(1,0,9,9),(1.5,0,9,9),(2,0,9,9),(2.5,0,9,9),\n",
    "      (0.5,0,12,12),(1,0,12,12),(1.5,0,12,12),(2,0,12,12),(2.5,0,12,12),\n",
    "      (0.5,0,12,6),(1,0,12,6),(1.5,0,12,6),(2,0,12,6),(2.5,0,12,6),\n",
    "      (0.5,0,6,12),(1,0,6,12),(1.5,0,6,12),(2,0,6,12),(2.5,0,6,12),\n",
    "    \n",
    "      (0.5,0.05,3,3),(1,0.05,3,3),(1.5,0.05,3,3),(2,0.05,3,3),(2.5,0.05,3,3),\n",
    "      (0.5,0.05,6,6),(1,0.05,6,6),(1.5,0.05,6,6),(2,0.05,6,6),(2.5,0.05,6,6),\n",
    "      (0.5,0.05,9,9),(1,0.05,9,9),(1.5,0.05,9,9),(2,0.05,9,9),(2.5,0.05,9,9),\n",
    "      (0.5,0.05,12,12),(1,0.05,12,12),(1.5,0.05,12,12),(2,0.05,12,12),(2.5,0.05,12,12),\n",
    "      (0.5,0.05,12,6),(1,0.05,12,6),(1.5,0.05,12,6),(2,0.05,12,6),(2.5,0.05,12,6),\n",
    "      (0.5,0.05,6,12),(1,0.05,6,12),(1.5,0.05,6,12),(2,0.05,6,12),(2.5,0.05,6,12),\n",
    "      \n",
    "      (0.5,0.1,3,3),(1,0.1,3,3),(1.5,0.1,3,3),(2,0.1,3,3),(2.5,0.1,3,3),\n",
    "      (0.5,0.1,6,6),(1,0.1,6,6),(1.5,0.1,6,6),(2,0.1,6,6),(2.5,0.1,6,6),\n",
    "      (0.5,0.1,9,9),(1,0.1,9,9),(1.5,0.1,9,9),(2,0.1,9,9),(2.5,0.1,9,9),\n",
    "      (0.5,0.1,12,12),(1,0.1,12,12),(1.5,0.1,12,12),(2,0.1,12,12),(2.5,0.1,12,12),\n",
    "      (0.5,0.1,12,6),(1,0.1,12,6),(1.5,0.1,12,6),(2,0.1,12,6),(2.5,0.1,12,6),\n",
    "      (0.5,0.1,6,12),(1,0.1,6,12),(1.5,0.1,6,12),(2,0.1,6,12),(2.5,0.1,6,12)]"
   ]
  },
  {
   "cell_type": "code",
   "execution_count": null,
   "id": "af6df89d-0b64-4d13-a5e5-935783033af6",
   "metadata": {},
   "outputs": [],
   "source": [
    "l2 = [(0.5,0.5,3,3),(1,0.5,3,3),(1.5,0.5,3,3),(2,0.5,3,3),(2.5,0.5,3,3),\n",
    "      (0.5,0.5,6,6),(1,0.5,6,6),(1.5,0.5,6,6),(2,0.5,6,6),(2.5,0.5,6,6),\n",
    "      (0.5,0.5,9,9),(1,0.5,9,9),(1.5,0.5,9,9),(2,0.5,9,9),(2.5,0.5,9,9),\n",
    "      (0.5,0.5,12,12),(1,0.5,12,12),(1.5,0.5,12,12),(2,0.5,12,12),(2.5,0.5,12,12),\n",
    "      (0.5,0.5,12,6),(1,0.5,12,6),(1.5,0.5,12,6),(2,0.5,12,6),(2.5,0.5,12,6),\n",
    "      (0.5,0.5,6,12),(1,0.5,6,12),(1.5,0.5,6,12),(2,0.5,6,12),(2.5,0.5,6,12),\n",
    "      \n",
    "      (0.5,1,3,3),(1,1,3,3),(1.5,1,3,3),(2,1,3,3),(2.5,1,3,3),\n",
    "      (0.5,1,6,6),(1,1,6,6),(1.5,1,6,6),(2,1,6,6),(2.5,1,6,6),\n",
    "      (0.5,1,9,9),(1,1,9,9),(1.5,1,9,9),(2,1,9,9),(2.5,1,9,9),\n",
    "      (0.5,1,12,12),(1,1,12,12),(1.5,1,12,12),(2,1,12,12),(2.5,1,12,12),\n",
    "      (0.5,1,12,6),(1,1,12,6),(1.5,1,12,6),(2,1,12,6),(2.5,1,12,6),\n",
    "      (0.5,1,6,12),(1,1,6,12),(1.5,1,6,12),(2,1,6,12),(2.5,1,6,12),\n",
    "      \n",
    "      (0.5,2,3,3),(1,2,3,3),(1.5,2,3,3),(2,2,3,3),(2.5,2,3,3),\n",
    "      (0.5,2,6,6),(1,2,6,6),(1.5,2,6,6),(2,2,6,6),(2.5,2,6,6),\n",
    "      (0.5,2,9,9),(1,2,9,9),(1.5,2,9,9),(2,2,9,9),(2.5,2,9,9),\n",
    "      (0.5,2,12,12),(1,2,12,12),(1.5,2,12,12),(2,2,12,12),(2.5,2,12,12),\n",
    "      (0.5,2,12,6),(1,2,12,6),(1.5,2,12,6),(2,2,12,6),(2.5,2,12,6),\n",
    "      (0.5,2,6,12),(1,2,6,12),(1.5,2,6,12),(2,2,6,12),(2.5,2,6,12)]"
   ]
  },
  {
   "cell_type": "code",
   "execution_count": 3,
   "id": "b8cd4844-68af-459d-9952-10a4c4b000d1",
   "metadata": {},
   "outputs": [],
   "source": [
    "def U(x,mu1,mu2,sigma1,sigma2):\n",
    "        dis =  (x-mu1)/sigma1 - (x-mu2)/sigma2 - np.log(sigma2/sigma1) \n",
    "        return dis"
   ]
  },
  {
   "cell_type": "code",
   "execution_count": 5,
   "id": "84918b02-f6d6-4ce0-b73d-183cd89b53af",
   "metadata": {},
   "outputs": [],
   "source": [
    "def ksR1(rho,delta,n1,n2):\n",
    "\n",
    "    np.random.seed(42)\n",
    "    \n",
    "    # Simulation settings\n",
    "    num_simulations = 10000\n",
    "\n",
    "    # Storage for probability results\n",
    "    term1, term2 = 0, 0\n",
    "\n",
    "    for _ in range(num_simulations):\n",
    "        # Generate random integer for sigma2\n",
    "        sigma2 = random.randint(2, 100)\n",
    "        # Calculate sigma1 to ensure the ratio sigma1/sigma2 = rho\n",
    "        sigma1 = sigma2 * rho\n",
    "        mu1 = random.randint(2, 100)\n",
    "        mu2 = (delta*sigma2 + mu1)\n",
    "        sample_P1 = mu1 + np.random.exponential(scale=sigma1, size=n1)\n",
    "        sample_P2 = mu2 + np.random.exponential(scale=sigma2, size=n2)\n",
    "        emu1 = min(sample_P1)\n",
    "        emu2 = min(sample_P2)\n",
    "        obs1 = mu1 + np.random.exponential(scale=sigma1, size=1)\n",
    "        obs2 = mu2 + np.random.exponential(scale=sigma2, size=1)\n",
    "        if emu1 <= obs1 < emu2 or ( U(obs1,emu1,emu2,sigma1,sigma2) <= 0 and obs1 >= max(emu1,emu2) ):\n",
    "            term1 = term1 + 1\n",
    "        if emu2 <= obs2 < emu1 or ( U(obs2,emu1,emu2,sigma1,sigma2) > 0 and obs2 >= max(emu1,emu2) ) :\n",
    "            term2 = term2 + 1\n",
    "    # Calculate probabilities\n",
    "    P1 = term1 / num_simulations\n",
    "    P2 = term2 / num_simulations\n",
    "    \n",
    "    # Compute EPC\n",
    "    EPC =  0.5 * (P1 + P2)\n",
    "    \n",
    "    return EPC"
   ]
  },
  {
   "cell_type": "code",
   "execution_count": 7,
   "id": "d934ffea-fe9a-44f0-a4cd-d501c7f99efa",
   "metadata": {},
   "outputs": [],
   "source": [
    "def ksR2(rho,delta,n1,n2):\n",
    "\n",
    "    np.random.seed(42)\n",
    "    \n",
    "    # Simulation settings\n",
    "    num_simulations = 10000\n",
    "\n",
    "    # Storage for probability results\n",
    "    term1, term2 = 0, 0\n",
    "\n",
    "    for _ in range(num_simulations):\n",
    "        # Generate random integer for sigma2\n",
    "        sigma2 = random.randint(2, 100)\n",
    "        # Calculate sigma1 to ensure the ratio sigma1/sigma2 = rho\n",
    "        sigma1 = sigma2 * rho\n",
    "        mu1 = random.randint(2, 100)\n",
    "        mu2 = (delta*sigma2 + mu1)\n",
    "        sample_P1 = mu1 + np.random.exponential(scale=sigma1, size=n1)\n",
    "        sample_P2 = mu2 + np.random.exponential(scale=sigma2, size=n2)\n",
    "        emu1 = min(min(sample_P1),min(sample_P2))\n",
    "        emu2 = min(sample_P2)\n",
    "        obs1 = mu1 + np.random.exponential(scale=sigma1, size=1)\n",
    "        obs2 = mu2 + np.random.exponential(scale=sigma2, size=1)\n",
    "        if emu1 <= obs1 < emu2 or ( U(obs1,emu1,emu2,sigma1,sigma2) <= 0 and obs1 >= emu2 ):\n",
    "            term1 = term1 + 1\n",
    "        if U(obs2,emu1,emu2,sigma1,sigma2) > 0 and obs2 >= emu2 :\n",
    "            term2 = term2 + 1\n",
    "    # Calculate probabilities\n",
    "    P1 = term1 / num_simulations\n",
    "    P2 = term2 / num_simulations\n",
    "    \n",
    "    # Compute EPC\n",
    "    EPC =  0.5 * (P1 + P2)\n",
    "    \n",
    "    return EPC"
   ]
  },
  {
   "cell_type": "code",
   "execution_count": 9,
   "id": "b5897a94-654b-4790-be27-4694656cce3e",
   "metadata": {},
   "outputs": [],
   "source": [
    "def ksR3(rho,delta,n1,n2,a=0):\n",
    "\n",
    "    np.random.seed(42)\n",
    "    \n",
    "    # Simulation settings\n",
    "    num_simulations = 10000\n",
    "\n",
    "    # Storage for probability results\n",
    "    term1, term2 = 0, 0\n",
    "\n",
    "    for _ in range(num_simulations):\n",
    "        # Generate random integer for sigma2\n",
    "        sigma2 = random.randint(2, 100)\n",
    "        # Calculate sigma1 to ensure the ratio sigma1/sigma2 = rho\n",
    "        sigma1 = sigma2 * rho\n",
    "        mu1 = random.randint(2, 100)\n",
    "        mu2 = (delta*sigma2 + mu1)\n",
    "        sample_P1 = mu1 + np.random.exponential(scale=sigma1, size=n1)\n",
    "        sample_P2 = mu2 + np.random.exponential(scale=sigma2, size=n2)\n",
    "        emu1 = min(min(sample_P1),a*min(sample_P1)+(1-a)*min(sample_P2))\n",
    "        emu2 = max(min(sample_P2),a*min(sample_P2)+(1-a)*min(sample_P1))\n",
    "        obs1 = mu1 + np.random.exponential(scale=sigma1, size=1)\n",
    "        obs2 = mu2 + np.random.exponential(scale=sigma2, size=1)\n",
    "        if emu1 <= obs1 < emu2 or ( U(obs1,emu1,emu2,sigma1,sigma2) <= 0 and obs1 >= emu2 ):\n",
    "            term1 = term1 + 1\n",
    "        if U(obs2,emu1,emu2,sigma1,sigma2) > 0 and obs2 >= emu2 :\n",
    "            term2 = term2 + 1\n",
    "    # Calculate probabilities\n",
    "    P1 = term1 / num_simulations\n",
    "    P2 = term2 / num_simulations\n",
    "    \n",
    "    # Compute EPC\n",
    "    EPC =  0.5 * (P1 + P2)\n",
    "    \n",
    "    return EPC"
   ]
  },
  {
   "cell_type": "code",
   "execution_count": 11,
   "id": "d8f9cae4-d9d0-4b4f-8926-9bef7642c79b",
   "metadata": {},
   "outputs": [],
   "source": [
    "def ksR4(rho,delta,n1,n2):\n",
    "\n",
    "    np.random.seed(42)\n",
    "    \n",
    "    # Simulation settings\n",
    "    num_simulations = 10000\n",
    "\n",
    "    # Storage for probability results\n",
    "    term1, term2 = 0, 0\n",
    "\n",
    "    for _ in range(num_simulations):\n",
    "        # Generate random integer for sigma2\n",
    "        sigma2 = random.randint(2, 100)\n",
    "        # Calculate sigma1 to ensure the ratio sigma1/sigma2 = rho\n",
    "        sigma1 = sigma2 * rho\n",
    "        mu1 = random.randint(2, 100)\n",
    "        mu2 = (delta*sigma2 + mu1)\n",
    "        sample_P1 = mu1 + np.random.exponential(scale=sigma1, size=n1)\n",
    "        sample_P2 = mu2 + np.random.exponential(scale=sigma2, size=n2)\n",
    "\n",
    "        q = n1/sigma1 + n2/sigma2\n",
    "\n",
    "        if min(sample_P1) <= min(sample_P2) + sigma1/n1 - 1/q :\n",
    "            emu1 = min(sample_P1) - sigma1/n1\n",
    "        else :\n",
    "            emu1 = min(sample_P2) - 1/q \n",
    "            \n",
    "        if min(sample_P1) <= min(sample_P2) - sigma2/n2 + 1/q :\n",
    "            emu2 =  min(sample_P2) - sigma2/n2\n",
    "        elif min(sample_P2) - sigma2/n2 + 1/q < min(sample_P1) <= min(sample_P2) :\n",
    "            emu2 = min(sample_P1) - 1/q\n",
    "        elif min(sample_P2) < min(sample_P1) :\n",
    "            emu2 =  min(sample_P2) - 1/q\n",
    "        \n",
    "        obs1 = mu1 + np.random.exponential(scale=sigma1, size=1)\n",
    "        obs2 = mu2 + np.random.exponential(scale=sigma2, size=1)\n",
    "        if emu1 <= obs1 < emu2 or ( U(obs1,emu1,emu2,sigma1,sigma2) <= 0 and obs1 >= emu2 ):\n",
    "            term1 = term1 + 1\n",
    "        if U(obs2,emu1,emu2,sigma1,sigma2) > 0 and obs2 >= emu2 :\n",
    "            term2 = term2 + 1\n",
    "    # Calculate probabilities\n",
    "    P1 = term1 / num_simulations\n",
    "    P2 = term2 / num_simulations\n",
    "    \n",
    "    # Compute EPC\n",
    "    EPC =  0.5 * (P1 + P2)\n",
    "    \n",
    "    return EPC"
   ]
  },
  {
   "cell_type": "code",
   "execution_count": null,
   "id": "9064b1df-bf51-4cab-bc11-e20cc4ebcc40",
   "metadata": {},
   "outputs": [],
   "source": [
    "km1 = []\n",
    "for t in l1:\n",
    "    epc = ksR1(*t)\n",
    "    km1.append(epc)\n",
    "km1"
   ]
  },
  {
   "cell_type": "code",
   "execution_count": null,
   "id": "4f4d7342-3759-4dfe-a267-96958ac96792",
   "metadata": {},
   "outputs": [],
   "source": [
    "km2 = []\n",
    "for t in l1:\n",
    "    epc = ksR2(*t)\n",
    "    km2.append(epc)\n",
    "km2"
   ]
  },
  {
   "cell_type": "code",
   "execution_count": null,
   "id": "107b3188-90f1-45a7-9eb3-5cef0e87e58e",
   "metadata": {},
   "outputs": [],
   "source": [
    "km3 = []\n",
    "for t in l1:\n",
    "    epc = ksR3(*t)\n",
    "    km3.append(epc)\n",
    "km3"
   ]
  },
  {
   "cell_type": "code",
   "execution_count": null,
   "id": "f45222ae-bb31-42a7-994d-ef8bb4b17f58",
   "metadata": {},
   "outputs": [],
   "source": [
    "km4 = []\n",
    "for t in l1:\n",
    "    epc = ksR4(*t)\n",
    "    km4.append(epc)\n",
    "km4"
   ]
  },
  {
   "cell_type": "code",
   "execution_count": null,
   "id": "cade1371-0186-4a37-bf90-54d7018792d1",
   "metadata": {},
   "outputs": [],
   "source": [
    "kmRI21 = ((np.array(km2) - np.array(km1)) / np.array(km1)) * 100\n",
    "kmRI21 = np.round(kmRI21,2)\n",
    "np.set_printoptions(suppress=True)\n",
    "print(kmRI21)"
   ]
  },
  {
   "cell_type": "code",
   "execution_count": null,
   "id": "ec94917b-273e-4714-877d-59d1197cf3d4",
   "metadata": {},
   "outputs": [],
   "source": [
    "kmRI31 = ((np.array(km3) - np.array(km1)) / np.array(km1)) * 100\n",
    "kmRI31 = np.round(kmRI31,2)\n",
    "np.set_printoptions(suppress=True)\n",
    "print(kmRI31)"
   ]
  },
  {
   "cell_type": "code",
   "execution_count": null,
   "id": "cb51e83e-4994-4edb-bb56-37a195595bd3",
   "metadata": {},
   "outputs": [],
   "source": [
    "kmRI41 = ((np.array(km4) - np.array(km1)) / np.array(km1)) * 100\n",
    "kmRI41 = np.round(kmRI41,2)\n",
    "np.set_printoptions(suppress=True)\n",
    "print(kmRI41)"
   ]
  },
  {
   "cell_type": "code",
   "execution_count": null,
   "id": "6681a144-5e03-485c-baa0-cb31650f54fa",
   "metadata": {},
   "outputs": [],
   "source": [
    "# Divide each array into 3 parts of 30 elements\n",
    "chunks1 = [kmRI21[i:i+30] for i in range(0, 90, 30)]\n",
    "chunks2 = [kmRI31[i:i+30] for i in range(0, 90, 30)]\n",
    "chunks3 = [kmRI41[i:i+30] for i in range(0, 90, 30)]\n",
    "\n",
    "data = {'ρ ' : [0.5,1,1.5,2,2.5,0.5,1,1.5,2,2.5,0.5,1,1.5,2,2.5,0.5,1,1.5,2,2.5,0.5,1,1.5,2,2.5,0.5,1,1.5,2,2.5],\n",
    "    ('δ = 0', 'RI21'): chunks1[0],('δ = 0', 'RI31'): chunks2[0],('δ = 0', 'RI41'): chunks3[0],\n",
    "    ('δ = 0.05', 'RI21'): chunks1[1],('δ = 0.05', 'RI31'): chunks2[1],('δ = 0.05', 'RI41'): chunks3[1],\n",
    "    ('δ = 0.1', 'RI21'): chunks1[2],('δ = 0.1', 'RI31'): chunks2[2],('δ = 0.1', 'RI41'): chunks3[2],\n",
    "}\n",
    "\n",
    "# Create a DataFrame with multi-level columns\n",
    "df1 = pd.DataFrame(data)\n",
    "df1"
   ]
  },
  {
   "cell_type": "code",
   "execution_count": null,
   "id": "319b6155-1f5e-46c9-a2ec-899eb94e9912",
   "metadata": {},
   "outputs": [],
   "source": [
    "km_1 = []\n",
    "for t in l2:\n",
    "    epc = ksR1(*t)\n",
    "    km_1.append(epc)\n",
    "km_1"
   ]
  },
  {
   "cell_type": "code",
   "execution_count": null,
   "id": "6d544275-b5ea-4055-ad38-5c4eea24283b",
   "metadata": {},
   "outputs": [],
   "source": [
    "km_2 = []\n",
    "for t in l2:\n",
    "    epc = ksR2(*t)\n",
    "    km_2.append(epc)\n",
    "km_2"
   ]
  },
  {
   "cell_type": "code",
   "execution_count": null,
   "id": "1bd3695a-fab7-4d83-87ff-175adde5ad4e",
   "metadata": {},
   "outputs": [],
   "source": [
    "km_3 = []\n",
    "for t in l2:\n",
    "    epc = ksR3(*t)\n",
    "    km_3.append(epc)\n",
    "km_3"
   ]
  },
  {
   "cell_type": "code",
   "execution_count": null,
   "id": "9b46b2a6-000c-4c85-869f-7f03418c7a43",
   "metadata": {},
   "outputs": [],
   "source": [
    "km_4 = []\n",
    "for t in l2:\n",
    "    epc = ksR4(*t)\n",
    "    km_4.append(epc)\n",
    "km_4"
   ]
  },
  {
   "cell_type": "code",
   "execution_count": null,
   "id": "665eeca1-4066-4ec1-bfb3-9b0368595089",
   "metadata": {},
   "outputs": [],
   "source": [
    "kmRI_21 = ((np.array(km_2) - np.array(km_1)) / np.array(km_1)) * 100\n",
    "kmRI_21 = np.round(kmRI_21,2)\n",
    "np.set_printoptions(suppress=True)\n",
    "print(kmRI_21)"
   ]
  },
  {
   "cell_type": "code",
   "execution_count": null,
   "id": "bdac7134-d4ae-4747-9862-19543f0394f7",
   "metadata": {},
   "outputs": [],
   "source": [
    "kmRI_31 = ((np.array(km_3) - np.array(km_1)) / np.array(km_1)) * 100\n",
    "kmRI_31 = np.round(kmRI_31,2)\n",
    "np.set_printoptions(suppress=True)\n",
    "print(kmRI_31)"
   ]
  },
  {
   "cell_type": "code",
   "execution_count": null,
   "id": "463b5971-0719-42ec-9817-85d534c218f7",
   "metadata": {},
   "outputs": [],
   "source": [
    "kmRI_41 = ((np.array(km_4) - np.array(km_1)) / np.array(km_1)) * 100\n",
    "kmRI_41 = np.round(kmRI_41,2)\n",
    "np.set_printoptions(suppress=True)\n",
    "print(kmRI_41)"
   ]
  },
  {
   "cell_type": "code",
   "execution_count": null,
   "id": "8ae62f40-2494-4cb0-9449-4f27789d3593",
   "metadata": {},
   "outputs": [],
   "source": [
    "# Divide each array into 3 parts of 30 elements\n",
    "chunks1 = [kmRI_21[i:i+30] for i in range(0, 90, 30)]\n",
    "chunks2 = [kmRI_31[i:i+30] for i in range(0, 90, 30)]\n",
    "chunks3 = [kmRI_41[i:i+30] for i in range(0, 90, 30)]\n",
    "\n",
    "data = {'ρ ' : [0.5,1,1.5,2,2.5,0.5,1,1.5,2,2.5,0.5,1,1.5,2,2.5,0.5,1,1.5,2,2.5,0.5,1,1.5,2,2.5,0.5,1,1.5,2,2.5],\n",
    "    ('δ = 0.5', 'RI21'): chunks1[0],('δ = 0.5', 'RI31'): chunks2[0],('δ = 0.5', 'RI41'): chunks3[0],\n",
    "    ('δ = 1', 'RI21'): chunks1[1],('δ = 1', 'RI31'): chunks2[1],('δ = 1', 'RI41'): chunks3[1],\n",
    "    ('δ = 2', 'RI21'): chunks1[2],('δ = 2', 'RI31'): chunks2[2],('δ = 2', 'RI41'): chunks3[2],\n",
    "}\n",
    "\n",
    "# Create a DataFrame with multi-level columns\n",
    "df2 = pd.DataFrame(data)\n",
    "df2"
   ]
  },
  {
   "cell_type": "code",
   "execution_count": 13,
   "id": "092bae11-97c4-41cc-af09-c1677dafbd9e",
   "metadata": {},
   "outputs": [],
   "source": [
    "m = [(0.2,0.1,3,3),(0.4,0.1,3,3),(0.6,0.1,3,3),(0.8,0.1,3,3),(1,0.1,3,3)]\n",
    "n = [(0.2,0.5,3,3),(0.4,0.5,3,3),(0.6,0.5,3,3),(0.8,0.5,3,3),(1,0.5,3,3)]\n",
    "o = [(0.2,0.01,6,6),(0.4,0.01,6,6),(0.6,0.01,6,6),(0.8,0.01,6,6),(1,0.01,6,6)]\n",
    "p = [(0.2,0.1,9,9),(0.4,0.1,9,9),(0.6,0.1,9,9),(0.8,0.1,9,9),(1,0.1,9,9)]"
   ]
  },
  {
   "cell_type": "code",
   "execution_count": 15,
   "id": "7a22d887-d740-46c3-abce-d6e1d9f7936b",
   "metadata": {},
   "outputs": [
    {
     "data": {
      "text/plain": [
       "[0.6563, 0.5644, 0.50095, 0.45765, 0.43620000000000003]"
      ]
     },
     "execution_count": 15,
     "metadata": {},
     "output_type": "execute_result"
    }
   ],
   "source": [
    "m1 = []\n",
    "for t in m:\n",
    "    epc = ksR1(*t)\n",
    "    m1.append(epc)\n",
    "m1"
   ]
  },
  {
   "cell_type": "code",
   "execution_count": 16,
   "id": "9ccc36ae-c2aa-45b8-963c-9b8636823ed1",
   "metadata": {},
   "outputs": [
    {
     "data": {
      "text/plain": [
       "[0.6575, 0.5695, 0.50895, 0.46575, 0.43110000000000004]"
      ]
     },
     "execution_count": 16,
     "metadata": {},
     "output_type": "execute_result"
    }
   ],
   "source": [
    "m2 = []\n",
    "for t in m:\n",
    "    epc = ksR2(*t)\n",
    "    m2.append(epc)\n",
    "m2"
   ]
  },
  {
   "cell_type": "code",
   "execution_count": 17,
   "id": "4e805636-af1f-42a8-bacc-340eba0c6dcd",
   "metadata": {},
   "outputs": [
    {
     "data": {
      "text/plain": [
       "[0.6575500000000001,\n",
       " 0.5702499999999999,\n",
       " 0.5093000000000001,\n",
       " 0.46699999999999997,\n",
       " 0.44394999999999996]"
      ]
     },
     "execution_count": 17,
     "metadata": {},
     "output_type": "execute_result"
    }
   ],
   "source": [
    "m3 = []\n",
    "for t in m:\n",
    "    epc = ksR3(*t)\n",
    "    m3.append(epc)\n",
    "m3"
   ]
  },
  {
   "cell_type": "code",
   "execution_count": 18,
   "id": "52fc51da-ad8c-4186-a86d-980e2a6cf67b",
   "metadata": {},
   "outputs": [
    {
     "data": {
      "text/plain": [
       "[0.7484999999999999, 0.6484, 0.5808500000000001, 0.5303, 0.4961]"
      ]
     },
     "execution_count": 18,
     "metadata": {},
     "output_type": "execute_result"
    }
   ],
   "source": [
    "m4 = []\n",
    "for t in m:\n",
    "    epc = ksR4(*t)\n",
    "    m4.append(epc)\n",
    "m4"
   ]
  },
  {
   "cell_type": "code",
   "execution_count": null,
   "id": "e054fffa-d2fa-44f1-8cb7-9bba8a97d700",
   "metadata": {},
   "outputs": [],
   "source": [
    "n1 = []\n",
    "for t in n:\n",
    "    epc = ksR1(*t)\n",
    "    n1.append(epc)\n",
    "n1"
   ]
  },
  {
   "cell_type": "code",
   "execution_count": null,
   "id": "a9b95bab-1719-4e33-9c1b-29d0277b4260",
   "metadata": {},
   "outputs": [],
   "source": [
    "n2 = []\n",
    "for t in n:\n",
    "    epc = ksR2(*t)\n",
    "    n2.append(epc)\n",
    "n2"
   ]
  },
  {
   "cell_type": "code",
   "execution_count": null,
   "id": "484ecf4c-8db7-4dee-a5d9-81902f82b630",
   "metadata": {},
   "outputs": [],
   "source": [
    "n3 = []\n",
    "for t in n:\n",
    "    epc = ksR3(*t)\n",
    "    n3.append(epc)\n",
    "n3"
   ]
  },
  {
   "cell_type": "code",
   "execution_count": null,
   "id": "ef81b878-a2bb-4338-9431-bf51b05d0380",
   "metadata": {},
   "outputs": [],
   "source": [
    "n4 = []\n",
    "for t in n:\n",
    "    epc = ksR4(*t)\n",
    "    n4.append(epc)\n",
    "n4"
   ]
  },
  {
   "cell_type": "code",
   "execution_count": null,
   "id": "44372514-b0cf-49eb-ae3c-03cca1d680b9",
   "metadata": {},
   "outputs": [],
   "source": [
    "o1 = []\n",
    "for t in o:\n",
    "    epc = ksR1(*t)\n",
    "    o1.append(epc)\n",
    "o1"
   ]
  },
  {
   "cell_type": "code",
   "execution_count": null,
   "id": "103ce6c9-071a-486a-9e9e-4cc490c86359",
   "metadata": {},
   "outputs": [],
   "source": [
    "o2 = []\n",
    "for t in o:\n",
    "    epc = ksR2(*t)\n",
    "    o2.append(epc)\n",
    "o2"
   ]
  },
  {
   "cell_type": "code",
   "execution_count": null,
   "id": "5c92884b-b6a4-404e-aaaa-bfe2ff2b3cfb",
   "metadata": {},
   "outputs": [],
   "source": [
    "o3 = []\n",
    "for t in o:\n",
    "    epc = ksR3(*t)\n",
    "    o3.append(epc)\n",
    "o3"
   ]
  },
  {
   "cell_type": "code",
   "execution_count": null,
   "id": "60338ec1-7281-4f4c-bc03-37de5459b5a7",
   "metadata": {},
   "outputs": [],
   "source": [
    "o4 = []\n",
    "for t in o:\n",
    "    epc = ksR4(*t)\n",
    "    o4.append(epc)\n",
    "o4"
   ]
  },
  {
   "cell_type": "code",
   "execution_count": null,
   "id": "d25166e6-359f-4cde-ba93-6a3828d62327",
   "metadata": {},
   "outputs": [],
   "source": [
    "p1 = []\n",
    "for t in p:\n",
    "    epc = ksR1(*t)\n",
    "    p1.append(epc)\n",
    "p1"
   ]
  },
  {
   "cell_type": "code",
   "execution_count": null,
   "id": "c59fe004-e818-4f51-a044-b76c6a50785c",
   "metadata": {},
   "outputs": [],
   "source": [
    "p2 = []\n",
    "for t in p:\n",
    "    epc = ksR2(*t)\n",
    "    p2.append(epc)\n",
    "p2"
   ]
  },
  {
   "cell_type": "code",
   "execution_count": null,
   "id": "2aafdeb9-5508-4d88-8499-3399ef8a5069",
   "metadata": {},
   "outputs": [],
   "source": [
    "p3 = []\n",
    "for t in p:\n",
    "    epc = ksR3(*t)\n",
    "    p3.append(epc)\n",
    "p3"
   ]
  },
  {
   "cell_type": "code",
   "execution_count": null,
   "id": "d6fa068f-32ed-4988-964a-d27f4157fd58",
   "metadata": {},
   "outputs": [],
   "source": [
    "p4 = []\n",
    "for t in p:\n",
    "    epc = ksR4(*t)\n",
    "    p4.append(epc)\n",
    "p4"
   ]
  },
  {
   "cell_type": "code",
   "execution_count": 25,
   "id": "be6a7d28-c225-499b-8087-493533c9758f",
   "metadata": {},
   "outputs": [
    {
     "data": {
      "image/png": "[encoded data removed]",
      "text/plain": [
       "<Figure size 640x480 with 1 Axes>"
      ]
     },
     "metadata": {},
     "output_type": "display_data"
    }
   ],
   "source": [
    "x = [0.2,0.4,0.6,0.8,1]\n",
    "# Plotting\n",
    "plt.plot(x, m1, label=\" R1\", marker='^')\n",
    "plt.plot(x, m2, label=\" R2\", marker='d')\n",
    "plt.plot(x, m3, label=\" R3\", marker='s')\n",
    "plt.plot(x, m4, label=\" R4\", marker='o')\n",
    "\n",
    "# Adding labels, legend, and title\n",
    "plt.xlabel(\"ρ\")\n",
    "plt.ylabel(\"EPC\")\n",
    "plt.title(\" Plot of EPC vs ρ when μ1,μ2 are unknown but μ1 ≤ μ2..\")\n",
    "plt.legend()  # Show the legend\n",
    "plt.grid(True)  # Add grid lines for better readability\n",
    "plt.text(0.3, 0.50, r\"$(\\delta, n) = (0.1, 3)$\", fontsize=10, color='black')\n",
    "# Show plot\n",
    "plt.savefig(\" Plot_of_EPC_vs_ρ_when_μ1,_μ2_are_unknown_but_μ1_≤_μ2.png\", dpi=300, bbox_inches='tight')\n",
    "plt.show()"
   ]
  },
  {
   "cell_type": "code",
   "execution_count": null,
   "id": "0fa6e453-e82c-4b60-995e-714856738701",
   "metadata": {},
   "outputs": [],
   "source": [
    "x = [0.2,0.4,0.6,0.8,1]\n",
    "# Plotting\n",
    "plt.plot(x, n1, label=\" R1\", marker='^')\n",
    "plt.plot(x, n2, label=\" R2\", marker='d')\n",
    "plt.plot(x, n3, label=\" R3\", marker='s')\n",
    "plt.plot(x, n4, label=\" R4\", marker='o')\n",
    "\n",
    "# Adding labels, legend, and title\n",
    "plt.xlabel(\"ρ\")\n",
    "plt.ylabel(\"EPC\")\n",
    "plt.title(\"Plot of EPC vs ρ when σ1, σ2 are unknown but σ1 ≤ σ2.\")\n",
    "plt.legend()  # Show the legend\n",
    "plt.grid(True)  # Add grid lines for better readability\n",
    "\n",
    "# Show plot\n",
    "plt.show()"
   ]
  },
  {
   "cell_type": "code",
   "execution_count": null,
   "id": "092b0f21-13c7-401c-bf71-0388180ae809",
   "metadata": {},
   "outputs": [],
   "source": [
    "x = [0.2,0.4,0.6,0.8,1]\n",
    "# Plotting\n",
    "plt.plot(x, o1, label=\" R1\", marker='^')\n",
    "plt.plot(x, o2, label=\" R2\", marker='d')\n",
    "plt.plot(x, o3, label=\" R3\", marker='s')\n",
    "plt.plot(x, o4, label=\" R4\", marker='o')\n",
    "\n",
    "# Adding labels, legend, and title\n",
    "plt.xlabel(\"ρ\")\n",
    "plt.ylabel(\"EPC\")\n",
    "plt.title(\"Plot of EPC vs ρ when σ1, σ2 are unknown but σ1 ≤ σ2.\")\n",
    "plt.legend()  # Show the legend\n",
    "plt.grid(True)  # Add grid lines for better readability\n",
    "\n",
    "# Show plot\n",
    "plt.show()"
   ]
  },
  {
   "cell_type": "code",
   "execution_count": null,
   "id": "dd965c55-b4c2-4bc8-9cb2-0a4c7ea182db",
   "metadata": {},
   "outputs": [],
   "source": [
    "x = [0.2,0.4,0.6,0.8,1]\n",
    "# Plotting\n",
    "plt.plot(x, p1, label=\" R1\", marker='^')\n",
    "plt.plot(x, p2, label=\" R2\", marker='d')\n",
    "plt.plot(x, p3, label=\" R3\", marker='s')\n",
    "plt.plot(x, p4, label=\" R4\", marker='o')\n",
    "\n",
    "# Adding labels, legend, and title\n",
    "plt.xlabel(\"ρ\")\n",
    "plt.ylabel(\"EPC\")\n",
    "plt.title(\"Plot of EPC vs ρ when σ1, σ2 are unknown but σ1 ≤ σ2.\")\n",
    "plt.legend()  # Show the legend\n",
    "plt.grid(True)  # Add grid lines for better readability\n",
    "\n",
    "# Show plot\n",
    "plt.show()"
   ]
  },
  {
   "cell_type": "code",
   "execution_count": null,
   "id": "7f797da5-6c54-403d-ba95-cac929fc9f15",
   "metadata": {},
   "outputs": [],
   "source": []
  }
 ],
 "metadata": {
  "kernelspec": {
   "display_name": "Python 3 (ipykernel)",
   "language": "python",
   "name": "python3"
  },
  "language_info": {
   "codemirror_mode": {
    "name": "ipython",
    "version": 3
   },
   "file_extension": ".py",
   "mimetype": "text/x-python",
   "name": "python",
   "nbconvert_exporter": "python",
   "pygments_lexer": "ipython3",
   "version": "3.12.4"
  }
 },
 "nbformat": 4,
 "nbformat_minor": 5
}
